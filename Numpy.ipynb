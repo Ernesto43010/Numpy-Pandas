{
 "cells": [
  {
   "cell_type": "markdown",
   "id": "3846d49a-25d6-4694-8ad5-3d9e80e715ba",
   "metadata": {},
   "source": [
    "## NUMPY"
   ]
  },
  {
   "cell_type": "markdown",
   "id": "4bb90f48-6102-4653-8c4e-6d92c44f10a5",
   "metadata": {},
   "source": [
    "#Tenmos que importar la libreria numpy as np\n"
   ]
  },
  {
   "cell_type": "code",
   "execution_count": 1,
   "id": "8ce0e16c-6040-43f0-800b-e3e426e7b3c5",
   "metadata": {
    "tags": []
   },
   "outputs": [],
   "source": [
    "import numpy as np"
   ]
  },
  {
   "cell_type": "code",
   "execution_count": 2,
   "id": "57ce5ee2-b1e7-4bd3-af2a-21a5ea8ce321",
   "metadata": {
    "tags": []
   },
   "outputs": [
    {
     "data": {
      "text/plain": [
       "'1.23.5'"
      ]
     },
     "execution_count": 2,
     "metadata": {},
     "output_type": "execute_result"
    }
   ],
   "source": [
    "#version de la libreria\n",
    "\n",
    "np.__version__\n"
   ]
  },
  {
   "cell_type": "code",
   "execution_count": 3,
   "id": "2c3cd213-02b9-4ca4-8c05-127e2e8d1e89",
   "metadata": {
    "tags": []
   },
   "outputs": [
    {
     "data": {
      "text/plain": [
       "array([1, 2, 3, 4, 5])"
      ]
     },
     "execution_count": 3,
     "metadata": {},
     "output_type": "execute_result"
    }
   ],
   "source": [
    "#Creando arrelgo \n",
    "x1 = np.array([1,2,3,4,5])\n",
    "x1"
   ]
  },
  {
   "cell_type": "code",
   "execution_count": 4,
   "id": "4246f2eb-a560-4fc5-91f2-082fb2a4386f",
   "metadata": {
    "tags": []
   },
   "outputs": [
    {
     "data": {
      "text/plain": [
       "array([1.    , 2.    , 3.1416, 4.    , 5.    ])"
      ]
     },
     "execution_count": 4,
     "metadata": {},
     "output_type": "execute_result"
    }
   ],
   "source": [
    "x2 = np.array([1,2,3.1416,4,5])\n",
    "x2\n",
    "#Los va hacer todos flotantes ya que los reales son los que tienen mas capacidad de numero\n",
    "#Tambien si llegamos a tener un arreglo con un string ya que los enteros no tienen la cpacidad de mantener a los string pero los srting si \n",
    "#Por eso se van a convertir en string"
   ]
  },
  {
   "cell_type": "code",
   "execution_count": 5,
   "id": "a0921978-1ec0-423c-b8b5-266f668badd5",
   "metadata": {
    "tags": []
   },
   "outputs": [
    {
     "data": {
      "text/plain": [
       "array([1.1, 2.1, 4. ])"
      ]
     },
     "execution_count": 5,
     "metadata": {},
     "output_type": "execute_result"
    }
   ],
   "source": [
    "x3 = np.array([1.1,2.1,4])\n",
    "x3"
   ]
  },
  {
   "cell_type": "code",
   "execution_count": 6,
   "id": "cc0c2c6a-2745-456c-a0a9-07679f225975",
   "metadata": {
    "tags": []
   },
   "outputs": [
    {
     "data": {
      "text/plain": [
       "array([0, 1, 2, 3, 4, 5, 6, 7, 8, 9])"
      ]
     },
     "execution_count": 6,
     "metadata": {},
     "output_type": "execute_result"
    }
   ],
   "source": [
    "x4 = np.arange(10)\n",
    "x4"
   ]
  },
  {
   "cell_type": "code",
   "execution_count": 7,
   "id": "f15461a1-5051-4e39-8b8b-116373b4877a",
   "metadata": {
    "tags": []
   },
   "outputs": [
    {
     "data": {
      "text/plain": [
       "array([ 4,  9, 14, 19, 24, 29, 34])"
      ]
     },
     "execution_count": 7,
     "metadata": {},
     "output_type": "execute_result"
    }
   ],
   "source": [
    "x5 = np.arange(4,37,5)\n",
    "x5"
   ]
  },
  {
   "cell_type": "code",
   "execution_count": 8,
   "id": "4c1c7e46-6904-47eb-a616-1fc7b78381f3",
   "metadata": {
    "tags": []
   },
   "outputs": [
    {
     "data": {
      "text/plain": [
       "array([[0, 1, 2],\n",
       "       [1, 2, 3],\n",
       "       [2, 3, 4]])"
      ]
     },
     "execution_count": 8,
     "metadata": {},
     "output_type": "execute_result"
    }
   ],
   "source": [
    "#Esto es una matriz\n",
    "#i+3 ese nos va decir cuantas columnas van hacer\n",
    "#range(4) nos dice cuantas filas\n",
    "m1 = np.array([range(i,i+3) for i in range(3)])\n",
    "m1"
   ]
  },
  {
   "cell_type": "code",
   "execution_count": 9,
   "id": "810374e6-a7ee-4bc1-9392-1e42d2257bcf",
   "metadata": {
    "tags": []
   },
   "outputs": [
    {
     "data": {
      "text/plain": [
       "array([[0., 0., 0.],\n",
       "       [0., 0., 0.],\n",
       "       [0., 0., 0.]])"
      ]
     },
     "execution_count": 9,
     "metadata": {},
     "output_type": "execute_result"
    }
   ],
   "source": [
    "#np.zeros([filas,columnas])\n",
    "x6 = np.zeros([3,3])\n",
    "x6"
   ]
  },
  {
   "cell_type": "code",
   "execution_count": 10,
   "id": "c084cb7d-7f07-4292-a5b2-bed371f1e3d2",
   "metadata": {
    "tags": []
   },
   "outputs": [
    {
     "data": {
      "text/plain": [
       "array([[1., 0., 0., 0., 0., 0.],\n",
       "       [0., 1., 0., 0., 0., 0.],\n",
       "       [0., 0., 1., 0., 0., 0.],\n",
       "       [0., 0., 0., 1., 0., 0.],\n",
       "       [0., 0., 0., 0., 1., 0.],\n",
       "       [0., 0., 0., 0., 0., 1.],\n",
       "       [0., 0., 0., 0., 0., 0.]])"
      ]
     },
     "execution_count": 10,
     "metadata": {},
     "output_type": "execute_result"
    }
   ],
   "source": [
    "#Creando una matriz identidad\n",
    "#O si la queremos cuadrada va ser x7 = np.eye(7) y se va ser automaticamnte de 7x7\n",
    "x7 = np.eye(7,6)\n",
    "x7"
   ]
  },
  {
   "cell_type": "code",
   "execution_count": 11,
   "id": "ab4ec068-467e-4d4d-9f1b-dc7f304589c1",
   "metadata": {
    "tags": []
   },
   "outputs": [
    {
     "data": {
      "text/plain": [
       "array([[1., 0., 0.],\n",
       "       [0., 1., 0.],\n",
       "       [0., 0., 1.]])"
      ]
     },
     "execution_count": 11,
     "metadata": {},
     "output_type": "execute_result"
    }
   ],
   "source": [
    "x8 = np.eye(3)\n",
    "x8"
   ]
  },
  {
   "cell_type": "code",
   "execution_count": 12,
   "id": "f0f2d089-c9ac-4eda-939d-eac26da03c21",
   "metadata": {
    "tags": []
   },
   "outputs": [
    {
     "data": {
      "text/plain": [
       "array([[1., 0., 0., 0., 0., 0., 0., 0., 0., 0.],\n",
       "       [0., 1., 0., 0., 0., 0., 0., 0., 0., 0.],\n",
       "       [0., 0., 1., 0., 0., 0., 0., 0., 0., 0.],\n",
       "       [0., 0., 0., 1., 0., 0., 0., 0., 0., 0.],\n",
       "       [0., 0., 0., 0., 1., 0., 0., 0., 0., 0.],\n",
       "       [0., 0., 0., 0., 0., 1., 0., 0., 0., 0.],\n",
       "       [0., 0., 0., 0., 0., 0., 1., 0., 0., 0.],\n",
       "       [0., 0., 0., 0., 0., 0., 0., 1., 0., 0.],\n",
       "       [0., 0., 0., 0., 0., 0., 0., 0., 1., 0.],\n",
       "       [0., 0., 0., 0., 0., 0., 0., 0., 0., 1.]])"
      ]
     },
     "execution_count": 12,
     "metadata": {},
     "output_type": "execute_result"
    }
   ],
   "source": [
    "x9 = np.eye(10)\n",
    "x9"
   ]
  },
  {
   "cell_type": "code",
   "execution_count": 13,
   "id": "f25d5e8a-f778-4fc8-93b4-8d5fb7068950",
   "metadata": {
    "tags": []
   },
   "outputs": [
    {
     "data": {
      "text/plain": [
       "array([[0., 0., 0., 0., 1., 0., 0., 0., 0., 0.],\n",
       "       [0., 0., 0., 0., 0., 1., 0., 0., 0., 0.],\n",
       "       [0., 0., 0., 0., 0., 0., 1., 0., 0., 0.]])"
      ]
     },
     "execution_count": 13,
     "metadata": {},
     "output_type": "execute_result"
    }
   ],
   "source": [
    "#Haceindo slicing\n",
    "x9[4:7]\n"
   ]
  },
  {
   "cell_type": "code",
   "execution_count": 14,
   "id": "a4dbc295-c99a-40ce-8190-095aa9283e55",
   "metadata": {
    "tags": []
   },
   "outputs": [
    {
     "data": {
      "text/plain": [
       "array([[1., 0., 0.],\n",
       "       [0., 1., 0.],\n",
       "       [0., 0., 1.],\n",
       "       [0., 0., 0.],\n",
       "       [0., 0., 0.],\n",
       "       [0., 0., 0.],\n",
       "       [0., 0., 0.],\n",
       "       [0., 0., 0.],\n",
       "       [0., 0., 0.],\n",
       "       [0., 0., 0.]])"
      ]
     },
     "execution_count": 14,
     "metadata": {},
     "output_type": "execute_result"
    }
   ],
   "source": [
    "#Ahora vamos a traer las columnas de x9\n",
    "#x9 []\n",
    "#: todos los renglones\n",
    "# :3 ahora dame las primeras 3 columnas\n",
    "x9[:,:3]"
   ]
  },
  {
   "cell_type": "code",
   "execution_count": 15,
   "id": "7a24ae05-0d2a-4ccc-843e-bfb59066f3de",
   "metadata": {
    "tags": []
   },
   "outputs": [
    {
     "data": {
      "text/plain": [
       "array([[0., 0., 0.],\n",
       "       [0., 0., 0.],\n",
       "       [0., 0., 0.],\n",
       "       [1., 0., 0.],\n",
       "       [0., 1., 0.]])"
      ]
     },
     "execution_count": 15,
     "metadata": {},
     "output_type": "execute_result"
    }
   ],
   "source": [
    "#Traer los renglones del 3 al 7 y las columnas del 6 al 8\n",
    "#Primero ponemos las filas que queremos , despues de poner la coma ponemos las columnas que querramos\n",
    "x9[3:8, 6:9]"
   ]
  },
  {
   "cell_type": "code",
   "execution_count": 16,
   "id": "85aaf6ea-3068-4e39-ac6d-addbc705bd26",
   "metadata": {
    "tags": []
   },
   "outputs": [
    {
     "data": {
      "text/plain": [
       "array([[0., 1., 0., 0., 0., 0., 0., 0., 0., 0.],\n",
       "       [0., 0., 0., 1., 0., 0., 0., 0., 0., 0.],\n",
       "       [0., 0., 0., 0., 0., 1., 0., 0., 0., 0.],\n",
       "       [0., 0., 0., 0., 0., 0., 0., 1., 0., 0.],\n",
       "       [0., 0., 0., 0., 0., 0., 0., 0., 0., 1.]])"
      ]
     },
     "execution_count": 16,
     "metadata": {},
     "output_type": "execute_result"
    }
   ],
   "source": [
    "#Extraer los renglones impares\n",
    "\n",
    "x9[1::2]"
   ]
  },
  {
   "cell_type": "code",
   "execution_count": 17,
   "id": "eae84daf-9c81-4046-893a-ccfd8e72b0b0",
   "metadata": {
    "tags": []
   },
   "outputs": [
    {
     "data": {
      "text/plain": [
       "array([[1., 0., 0., 0., 0.],\n",
       "       [0., 0., 0., 0., 0.],\n",
       "       [0., 1., 0., 0., 0.],\n",
       "       [0., 0., 0., 0., 0.],\n",
       "       [0., 0., 1., 0., 0.],\n",
       "       [0., 0., 0., 0., 0.],\n",
       "       [0., 0., 0., 1., 0.],\n",
       "       [0., 0., 0., 0., 0.],\n",
       "       [0., 0., 0., 0., 1.],\n",
       "       [0., 0., 0., 0., 0.]])"
      ]
     },
     "execution_count": 17,
     "metadata": {},
     "output_type": "execute_result"
    }
   ],
   "source": [
    "#Columnas pares\n",
    "\n",
    "x9[:, 0::2]"
   ]
  },
  {
   "cell_type": "code",
   "execution_count": 18,
   "id": "bd871a2f-30c2-4239-bd11-b0d81a8ac5c1",
   "metadata": {
    "tags": []
   },
   "outputs": [
    {
     "data": {
      "text/plain": [
       "array([[1., 0., 0., 0.],\n",
       "       [0., 1., 0., 0.],\n",
       "       [0., 0., 1., 0.],\n",
       "       [0., 0., 0., 1.]])"
      ]
     },
     "execution_count": 18,
     "metadata": {},
     "output_type": "execute_result"
    }
   ],
   "source": [
    "#Quiero saber los renglones impares y las columnas pares de la matriz interior de x9\n",
    "\n",
    "x9[1:9:2, 1:9:2]"
   ]
  },
  {
   "cell_type": "code",
   "execution_count": 19,
   "id": "dfaff39a-5dd6-45e9-81f9-e5b5290728ae",
   "metadata": {},
   "outputs": [
    {
     "data": {
      "text/plain": [
       "(10, 10)"
      ]
     },
     "execution_count": 19,
     "metadata": {},
     "output_type": "execute_result"
    }
   ],
   "source": [
    "#Para saber la forma que tiene el arreglo seria con: .shape\n",
    "x9.shape"
   ]
  },
  {
   "cell_type": "code",
   "execution_count": 20,
   "id": "bd169c76-4c99-4822-8a74-d8b3d34e45f0",
   "metadata": {
    "tags": []
   },
   "outputs": [
    {
     "name": "stdout",
     "output_type": "stream",
     "text": [
      "Las dimensiones del arreglo son: 2\n"
     ]
    }
   ],
   "source": [
    "#Dimensiones de un arreglo \n",
    "print(f\"Las dimensiones del arreglo son: {x9.ndim}\")"
   ]
  },
  {
   "cell_type": "code",
   "execution_count": 21,
   "id": "8428e771-3132-4901-ad8e-90dc83215948",
   "metadata": {
    "tags": []
   },
   "outputs": [
    {
     "data": {
      "text/plain": [
       "100"
      ]
     },
     "execution_count": 21,
     "metadata": {},
     "output_type": "execute_result"
    }
   ],
   "source": [
    "#Tamaño \n",
    "x9.size"
   ]
  },
  {
   "cell_type": "code",
   "execution_count": 22,
   "id": "44db1845-9131-44de-9bd3-2b68a2932f88",
   "metadata": {
    "tags": []
   },
   "outputs": [],
   "source": [
    "import pandas as pd"
   ]
  },
  {
   "cell_type": "code",
   "execution_count": 23,
   "id": "808d429a-ea4f-4463-91fb-228beb027b9e",
   "metadata": {
    "tags": []
   },
   "outputs": [],
   "source": [
    "datos = pd.DataFrame(x9)"
   ]
  },
  {
   "cell_type": "code",
   "execution_count": 24,
   "id": "9c3484cc-895f-49c4-be60-7e45f0e8cf61",
   "metadata": {
    "tags": []
   },
   "outputs": [
    {
     "data": {
      "text/html": [
       "<div>\n",
       "<style scoped>\n",
       "    .dataframe tbody tr th:only-of-type {\n",
       "        vertical-align: middle;\n",
       "    }\n",
       "\n",
       "    .dataframe tbody tr th {\n",
       "        vertical-align: top;\n",
       "    }\n",
       "\n",
       "    .dataframe thead th {\n",
       "        text-align: right;\n",
       "    }\n",
       "</style>\n",
       "<table border=\"1\" class=\"dataframe\">\n",
       "  <thead>\n",
       "    <tr style=\"text-align: right;\">\n",
       "      <th></th>\n",
       "      <th>0</th>\n",
       "      <th>1</th>\n",
       "      <th>2</th>\n",
       "      <th>3</th>\n",
       "      <th>4</th>\n",
       "      <th>5</th>\n",
       "      <th>6</th>\n",
       "      <th>7</th>\n",
       "      <th>8</th>\n",
       "      <th>9</th>\n",
       "    </tr>\n",
       "  </thead>\n",
       "  <tbody>\n",
       "    <tr>\n",
       "      <th>0</th>\n",
       "      <td>1.0</td>\n",
       "      <td>0.0</td>\n",
       "      <td>0.0</td>\n",
       "      <td>0.0</td>\n",
       "      <td>0.0</td>\n",
       "      <td>0.0</td>\n",
       "      <td>0.0</td>\n",
       "      <td>0.0</td>\n",
       "      <td>0.0</td>\n",
       "      <td>0.0</td>\n",
       "    </tr>\n",
       "    <tr>\n",
       "      <th>1</th>\n",
       "      <td>0.0</td>\n",
       "      <td>1.0</td>\n",
       "      <td>0.0</td>\n",
       "      <td>0.0</td>\n",
       "      <td>0.0</td>\n",
       "      <td>0.0</td>\n",
       "      <td>0.0</td>\n",
       "      <td>0.0</td>\n",
       "      <td>0.0</td>\n",
       "      <td>0.0</td>\n",
       "    </tr>\n",
       "    <tr>\n",
       "      <th>2</th>\n",
       "      <td>0.0</td>\n",
       "      <td>0.0</td>\n",
       "      <td>1.0</td>\n",
       "      <td>0.0</td>\n",
       "      <td>0.0</td>\n",
       "      <td>0.0</td>\n",
       "      <td>0.0</td>\n",
       "      <td>0.0</td>\n",
       "      <td>0.0</td>\n",
       "      <td>0.0</td>\n",
       "    </tr>\n",
       "    <tr>\n",
       "      <th>3</th>\n",
       "      <td>0.0</td>\n",
       "      <td>0.0</td>\n",
       "      <td>0.0</td>\n",
       "      <td>1.0</td>\n",
       "      <td>0.0</td>\n",
       "      <td>0.0</td>\n",
       "      <td>0.0</td>\n",
       "      <td>0.0</td>\n",
       "      <td>0.0</td>\n",
       "      <td>0.0</td>\n",
       "    </tr>\n",
       "    <tr>\n",
       "      <th>4</th>\n",
       "      <td>0.0</td>\n",
       "      <td>0.0</td>\n",
       "      <td>0.0</td>\n",
       "      <td>0.0</td>\n",
       "      <td>1.0</td>\n",
       "      <td>0.0</td>\n",
       "      <td>0.0</td>\n",
       "      <td>0.0</td>\n",
       "      <td>0.0</td>\n",
       "      <td>0.0</td>\n",
       "    </tr>\n",
       "    <tr>\n",
       "      <th>5</th>\n",
       "      <td>0.0</td>\n",
       "      <td>0.0</td>\n",
       "      <td>0.0</td>\n",
       "      <td>0.0</td>\n",
       "      <td>0.0</td>\n",
       "      <td>1.0</td>\n",
       "      <td>0.0</td>\n",
       "      <td>0.0</td>\n",
       "      <td>0.0</td>\n",
       "      <td>0.0</td>\n",
       "    </tr>\n",
       "    <tr>\n",
       "      <th>6</th>\n",
       "      <td>0.0</td>\n",
       "      <td>0.0</td>\n",
       "      <td>0.0</td>\n",
       "      <td>0.0</td>\n",
       "      <td>0.0</td>\n",
       "      <td>0.0</td>\n",
       "      <td>1.0</td>\n",
       "      <td>0.0</td>\n",
       "      <td>0.0</td>\n",
       "      <td>0.0</td>\n",
       "    </tr>\n",
       "    <tr>\n",
       "      <th>7</th>\n",
       "      <td>0.0</td>\n",
       "      <td>0.0</td>\n",
       "      <td>0.0</td>\n",
       "      <td>0.0</td>\n",
       "      <td>0.0</td>\n",
       "      <td>0.0</td>\n",
       "      <td>0.0</td>\n",
       "      <td>1.0</td>\n",
       "      <td>0.0</td>\n",
       "      <td>0.0</td>\n",
       "    </tr>\n",
       "    <tr>\n",
       "      <th>8</th>\n",
       "      <td>0.0</td>\n",
       "      <td>0.0</td>\n",
       "      <td>0.0</td>\n",
       "      <td>0.0</td>\n",
       "      <td>0.0</td>\n",
       "      <td>0.0</td>\n",
       "      <td>0.0</td>\n",
       "      <td>0.0</td>\n",
       "      <td>1.0</td>\n",
       "      <td>0.0</td>\n",
       "    </tr>\n",
       "    <tr>\n",
       "      <th>9</th>\n",
       "      <td>0.0</td>\n",
       "      <td>0.0</td>\n",
       "      <td>0.0</td>\n",
       "      <td>0.0</td>\n",
       "      <td>0.0</td>\n",
       "      <td>0.0</td>\n",
       "      <td>0.0</td>\n",
       "      <td>0.0</td>\n",
       "      <td>0.0</td>\n",
       "      <td>1.0</td>\n",
       "    </tr>\n",
       "  </tbody>\n",
       "</table>\n",
       "</div>"
      ],
      "text/plain": [
       "     0    1    2    3    4    5    6    7    8    9\n",
       "0  1.0  0.0  0.0  0.0  0.0  0.0  0.0  0.0  0.0  0.0\n",
       "1  0.0  1.0  0.0  0.0  0.0  0.0  0.0  0.0  0.0  0.0\n",
       "2  0.0  0.0  1.0  0.0  0.0  0.0  0.0  0.0  0.0  0.0\n",
       "3  0.0  0.0  0.0  1.0  0.0  0.0  0.0  0.0  0.0  0.0\n",
       "4  0.0  0.0  0.0  0.0  1.0  0.0  0.0  0.0  0.0  0.0\n",
       "5  0.0  0.0  0.0  0.0  0.0  1.0  0.0  0.0  0.0  0.0\n",
       "6  0.0  0.0  0.0  0.0  0.0  0.0  1.0  0.0  0.0  0.0\n",
       "7  0.0  0.0  0.0  0.0  0.0  0.0  0.0  1.0  0.0  0.0\n",
       "8  0.0  0.0  0.0  0.0  0.0  0.0  0.0  0.0  1.0  0.0\n",
       "9  0.0  0.0  0.0  0.0  0.0  0.0  0.0  0.0  0.0  1.0"
      ]
     },
     "execution_count": 24,
     "metadata": {},
     "output_type": "execute_result"
    }
   ],
   "source": [
    "datos"
   ]
  },
  {
   "cell_type": "code",
   "execution_count": 25,
   "id": "6aeafc6b-6787-40e2-86b2-11c87ad1464a",
   "metadata": {},
   "outputs": [
    {
     "data": {
      "text/plain": [
       "array([[0, 1],\n",
       "       [2, 3],\n",
       "       [4, 5],\n",
       "       [6, 7],\n",
       "       [8, 9]])"
      ]
     },
     "execution_count": 25,
     "metadata": {},
     "output_type": "execute_result"
    }
   ],
   "source": [
    "array = np.array([range(i, i+2) for i in range(0,10,2)])\n",
    "array"
   ]
  },
  {
   "cell_type": "markdown",
   "id": "b59c7fa5-9359-4552-ae5d-d19509ceef29",
   "metadata": {},
   "source": [
    "# Generando numeros aletorios \n",
    "Un conjunto de datos que tiene una distribucion uniforme: Todos tienen la misma probabilidad de ser seleccionados\n"
   ]
  },
  {
   "cell_type": "code",
   "execution_count": 26,
   "id": "b1ad08b7-9801-49e0-8d37-80e37473bdc6",
   "metadata": {
    "tags": []
   },
   "outputs": [
    {
     "data": {
      "text/plain": [
       "array([52,  8,  0, 78, 92,  5, 32, 70, 67, 58, 19, 45, 61, 41, 98, 78, 44,\n",
       "       19, 25, 93, 30, 68, 62, 82, 36, 79, 24, 96, 78, 43,  6, 74, 49,  7,\n",
       "       34, 45, 19, 70, 63,  7, 26, 17, 97, 76, 65,  0, 36, 34, 41, 20])"
      ]
     },
     "execution_count": 26,
     "metadata": {},
     "output_type": "execute_result"
    }
   ],
   "source": [
    "import random \n",
    "aleatorio = np.random.randint(0,100,50)\n",
    "aleatorio"
   ]
  },
  {
   "cell_type": "code",
   "execution_count": 27,
   "id": "c4564631-e7f7-462c-99ed-df7137acf8a5",
   "metadata": {
    "tags": []
   },
   "outputs": [],
   "source": [
    "# Entre los parentesis le decimos de cuanto * cuanto queremos que sea nuestra matriz\n",
    "matriz_aleatoria = np.random.random((4,4))\n",
    "#matriz_aleatoria\n",
    "\n",
    "#matriz_aleatoria2 = np.random.random((4,4))\n",
    "#matriz_aleatoria2"
   ]
  },
  {
   "cell_type": "code",
   "execution_count": 28,
   "id": "4028d877-299c-48c0-9d05-b671a0ffb778",
   "metadata": {
    "tags": []
   },
   "outputs": [
    {
     "data": {
      "text/plain": [
       "array([ 1.09580442, -0.28140217,  0.52981307, -1.2837983 , -0.52172562,\n",
       "       -1.26165496, -0.71405962, -0.36549655, -0.24643244,  1.46752388])"
      ]
     },
     "execution_count": 28,
     "metadata": {},
     "output_type": "execute_result"
    }
   ],
   "source": [
    "#Distribucion normal\n",
    "# A la funcion normal necesitamos pasarle 2 parametros\n",
    "# El primer parametro es : La media y la segunda es la desviacion estandar\n",
    "# Y cuantos datos queremso\n",
    "arreglo_normal = np.random.normal(0,1,10)\n",
    "arreglo_normal"
   ]
  },
  {
   "cell_type": "code",
   "execution_count": 29,
   "id": "d9e19878-aaed-4bab-8ad0-c86bb157e113",
   "metadata": {
    "tags": []
   },
   "outputs": [
    {
     "data": {
      "text/plain": [
       "array([[[2.18429953, 4.03247294, 4.99391576],\n",
       "        [5.05778687, 2.66156504, 4.42157923],\n",
       "        [4.58763927, 5.10998727, 3.90927623]],\n",
       "\n",
       "       [[3.45238401, 4.32887041, 4.95620778],\n",
       "        [3.50942524, 4.13741444, 5.87254996],\n",
       "        [3.32269664, 6.45841968, 3.75029344]],\n",
       "\n",
       "       [[3.5136578 , 5.08171722, 4.529533  ],\n",
       "        [4.46319794, 4.79927788, 3.55062948],\n",
       "        [1.91206175, 5.04750857, 4.44861418]]])"
      ]
     },
     "execution_count": 29,
     "metadata": {},
     "output_type": "execute_result"
    }
   ],
   "source": [
    "matriz_normal = np.random.normal(4,1,(3,3,3))\n",
    "matriz_normal"
   ]
  },
  {
   "cell_type": "code",
   "execution_count": 30,
   "id": "99b09d18-b09f-407a-b812-eebf04f83794",
   "metadata": {
    "tags": []
   },
   "outputs": [
    {
     "data": {
      "text/plain": [
       "array([[18, 30, 71, 81, 95],\n",
       "       [33,  4, 10, 57, 89],\n",
       "       [ 5, 80, 78, 88, 93],\n",
       "       [15, 71, 88, 93, 58],\n",
       "       [25, 63, 21, 11, 60]])"
      ]
     },
     "execution_count": 30,
     "metadata": {},
     "output_type": "execute_result"
    }
   ],
   "source": [
    "# randint(desde,hasta,cuantos(o una matriz))\n",
    "matriz2 = np.random.randint(1,10,10)\n",
    "matriz2\n",
    "matriz3 = np.random.randint(0,101,(5,5))\n",
    "matriz3"
   ]
  },
  {
   "cell_type": "code",
   "execution_count": 31,
   "id": "ac1d031b-da5c-4fc4-838e-94f1a18cb0a3",
   "metadata": {
    "tags": []
   },
   "outputs": [
    {
     "data": {
      "text/plain": [
       "array([418021, 641408, 963984, 895001, 141547, 721475, 998880, 106968,\n",
       "       562242, 678404])"
      ]
     },
     "execution_count": 31,
     "metadata": {},
     "output_type": "execute_result"
    }
   ],
   "source": [
    "big_array=np.random.randint(1,1000001,10)\n",
    "big_array"
   ]
  },
  {
   "cell_type": "code",
   "execution_count": 32,
   "id": "d61c7418-9708-44e1-9b27-70270a074ae7",
   "metadata": {
    "tags": []
   },
   "outputs": [],
   "source": [
    "# Creando funcion del reciproco\n",
    "def reciproco(array):\n",
    "    reciprocos = []\n",
    "    for n in array:\n",
    "        reciprocos.append(1/(n))\n",
    "    return reciprocos\n",
    "        "
   ]
  },
  {
   "cell_type": "code",
   "execution_count": 33,
   "id": "83dfbe59-c1a1-41a0-96f0-2d1195bbb2fc",
   "metadata": {
    "tags": []
   },
   "outputs": [
    {
     "data": {
      "text/plain": [
       "[2.3922243140894836e-06,\n",
       " 1.5590700458990222e-06,\n",
       " 1.037361615960431e-06,\n",
       " 1.1173171873550979e-06,\n",
       " 7.0647912000960814e-06,\n",
       " 1.3860494126615614e-06,\n",
       " 1.0011212558065032e-06,\n",
       " 9.348590232592925e-06,\n",
       " 1.7785935593570028e-06,\n",
       " 1.4740479124533464e-06]"
      ]
     },
     "execution_count": 33,
     "metadata": {},
     "output_type": "execute_result"
    }
   ],
   "source": [
    "reciproco(big_array)"
   ]
  },
  {
   "cell_type": "code",
   "execution_count": 34,
   "id": "b9c2ff0e-4c70-4aa3-bceb-9f2a4183d69d",
   "metadata": {
    "tags": []
   },
   "outputs": [
    {
     "name": "stdout",
     "output_type": "stream",
     "text": [
      "3.7 µs ± 257 ns per loop (mean ± std. dev. of 7 runs, 100,000 loops each)\n"
     ]
    }
   ],
   "source": [
    "# Importando la funcion de tiempo para calcularlo\n",
    "import datetime\n",
    "%timeit reciproco(big_array)"
   ]
  },
  {
   "cell_type": "code",
   "execution_count": 35,
   "id": "f634e649-c8a1-403e-b383-b9f77b17ce18",
   "metadata": {
    "tags": []
   },
   "outputs": [
    {
     "data": {
      "text/plain": [
       "array([52,  8,  0, 78, 92,  5, 32, 70, 67, 58, 19, 45, 61, 41, 98, 78, 44,\n",
       "       19, 25, 93, 30, 68, 62, 82, 36, 79, 24, 96, 78, 43,  6, 74, 49,  7,\n",
       "       34, 45, 19, 70, 63,  7, 26, 17, 97, 76, 65,  0, 36, 34, 41, 20])"
      ]
     },
     "execution_count": 35,
     "metadata": {},
     "output_type": "execute_result"
    }
   ],
   "source": [
    "aleatorio"
   ]
  },
  {
   "cell_type": "code",
   "execution_count": 36,
   "id": "a911cef0-bcd4-4b50-91ad-d3ef7b8da6c2",
   "metadata": {
    "tags": []
   },
   "outputs": [
    {
     "data": {
      "text/plain": [
       "2.141323267115409"
      ]
     },
     "execution_count": 36,
     "metadata": {},
     "output_type": "execute_result"
    }
   ],
   "source": [
    "1/0.46700095"
   ]
  },
  {
   "cell_type": "code",
   "execution_count": 37,
   "id": "676dfbb9-c8cf-454b-96a6-84a17c8838a6",
   "metadata": {
    "tags": []
   },
   "outputs": [
    {
     "name": "stderr",
     "output_type": "stream",
     "text": [
      "C:\\Users\\luisl\\AppData\\Local\\Temp\\ipykernel_22548\\503339728.py:1: RuntimeWarning: divide by zero encountered in divide\n",
      "  1/aleatorio\n"
     ]
    },
    {
     "data": {
      "text/plain": [
       "array([0.01923077, 0.125     ,        inf, 0.01282051, 0.01086957,\n",
       "       0.2       , 0.03125   , 0.01428571, 0.01492537, 0.01724138,\n",
       "       0.05263158, 0.02222222, 0.01639344, 0.02439024, 0.01020408,\n",
       "       0.01282051, 0.02272727, 0.05263158, 0.04      , 0.01075269,\n",
       "       0.03333333, 0.01470588, 0.01612903, 0.01219512, 0.02777778,\n",
       "       0.01265823, 0.04166667, 0.01041667, 0.01282051, 0.02325581,\n",
       "       0.16666667, 0.01351351, 0.02040816, 0.14285714, 0.02941176,\n",
       "       0.02222222, 0.05263158, 0.01428571, 0.01587302, 0.14285714,\n",
       "       0.03846154, 0.05882353, 0.01030928, 0.01315789, 0.01538462,\n",
       "              inf, 0.02777778, 0.02941176, 0.02439024, 0.05      ])"
      ]
     },
     "execution_count": 37,
     "metadata": {},
     "output_type": "execute_result"
    }
   ],
   "source": [
    "1/aleatorio"
   ]
  },
  {
   "cell_type": "code",
   "execution_count": 39,
   "id": "ada466f4-f0b6-450e-9de1-bbb8a802635a",
   "metadata": {
    "tags": []
   },
   "outputs": [
    {
     "name": "stdout",
     "output_type": "stream",
     "text": [
      "3.84 µs ± 457 ns per loop (mean ± std. dev. of 7 runs, 100,000 loops each)\n"
     ]
    }
   ],
   "source": [
    "%timeit 1/big_array"
   ]
  },
  {
   "cell_type": "code",
   "execution_count": null,
   "id": "6b35d38c-8799-419f-b577-d0a3257cf9ed",
   "metadata": {
    "tags": []
   },
   "outputs": [],
   "source": [
    "import pandas as pd\n",
    "numeros = pd.DataFrame({'Numeros':big_array})"
   ]
  },
  {
   "cell_type": "code",
   "execution_count": null,
   "id": "7574ad01-7b71-4ae6-ad41-e07680c3a7a7",
   "metadata": {
    "tags": []
   },
   "outputs": [
    {
     "data": {
      "text/html": [
       "<div>\n",
       "<style scoped>\n",
       "    .dataframe tbody tr th:only-of-type {\n",
       "        vertical-align: middle;\n",
       "    }\n",
       "\n",
       "    .dataframe tbody tr th {\n",
       "        vertical-align: top;\n",
       "    }\n",
       "\n",
       "    .dataframe thead th {\n",
       "        text-align: right;\n",
       "    }\n",
       "</style>\n",
       "<table border=\"1\" class=\"dataframe\">\n",
       "  <thead>\n",
       "    <tr style=\"text-align: right;\">\n",
       "      <th></th>\n",
       "      <th>Numeros</th>\n",
       "    </tr>\n",
       "  </thead>\n",
       "  <tbody>\n",
       "    <tr>\n",
       "      <th>0</th>\n",
       "      <td>790648</td>\n",
       "    </tr>\n",
       "    <tr>\n",
       "      <th>1</th>\n",
       "      <td>611314</td>\n",
       "    </tr>\n",
       "    <tr>\n",
       "      <th>2</th>\n",
       "      <td>941389</td>\n",
       "    </tr>\n",
       "    <tr>\n",
       "      <th>3</th>\n",
       "      <td>543832</td>\n",
       "    </tr>\n",
       "    <tr>\n",
       "      <th>4</th>\n",
       "      <td>897449</td>\n",
       "    </tr>\n",
       "    <tr>\n",
       "      <th>5</th>\n",
       "      <td>106630</td>\n",
       "    </tr>\n",
       "    <tr>\n",
       "      <th>6</th>\n",
       "      <td>929909</td>\n",
       "    </tr>\n",
       "    <tr>\n",
       "      <th>7</th>\n",
       "      <td>829588</td>\n",
       "    </tr>\n",
       "    <tr>\n",
       "      <th>8</th>\n",
       "      <td>562830</td>\n",
       "    </tr>\n",
       "    <tr>\n",
       "      <th>9</th>\n",
       "      <td>454844</td>\n",
       "    </tr>\n",
       "  </tbody>\n",
       "</table>\n",
       "</div>"
      ],
      "text/plain": [
       "   Numeros\n",
       "0   790648\n",
       "1   611314\n",
       "2   941389\n",
       "3   543832\n",
       "4   897449\n",
       "5   106630\n",
       "6   929909\n",
       "7   829588\n",
       "8   562830\n",
       "9   454844"
      ]
     },
     "execution_count": 75,
     "metadata": {},
     "output_type": "execute_result"
    }
   ],
   "source": [
    "numeros"
   ]
  },
  {
   "cell_type": "code",
   "execution_count": null,
   "id": "d3c87c84-5423-4cbd-81a9-57ee9ae62f32",
   "metadata": {
    "tags": []
   },
   "outputs": [
    {
     "data": {
      "text/plain": [
       "<Axes: >"
      ]
     },
     "execution_count": 84,
     "metadata": {},
     "output_type": "execute_result"
    },
    {
     "data": {
      "image/png": "[encoded data removed]",
      "text/plain": [
       "<Figure size 640x480 with 1 Axes>"
      ]
     },
     "metadata": {},
     "output_type": "display_data"
    }
   ],
   "source": [
    "import matplotlib as plt\n",
    "%matplotlib inline \n",
    "\n",
    "numeros.plot()"
   ]
  },
  {
   "cell_type": "code",
   "execution_count": 40,
   "id": "affc8969-e250-4ba1-b753-c8519d5be2c4",
   "metadata": {},
   "outputs": [
    {
     "data": {
      "text/plain": [
       "array([ 0.,  1.,  2.,  3.,  4.,  5.,  6.,  7.,  8.,  9., 10., 11., 12.,\n",
       "       13., 14., 15., 16., 17., 18., 19., 20., 21., 22., 23., 24.])"
      ]
     },
     "execution_count": 40,
     "metadata": {},
     "output_type": "execute_result"
    }
   ],
   "source": [
    "arreglo = np.linspace(0,24,25)\n",
    "arreglo"
   ]
  },
  {
   "cell_type": "code",
   "execution_count": 44,
   "id": "d8fb81a1",
   "metadata": {},
   "outputs": [
    {
     "data": {
      "text/plain": [
       "array([[ 0.,  1.,  2.,  3.,  4.],\n",
       "       [ 5.,  6.,  7.,  8.,  9.],\n",
       "       [10., 11., 12., 13., 14.],\n",
       "       [15., 16., 17., 18., 19.],\n",
       "       [20., 21., 22., 23., 24.]])"
      ]
     },
     "execution_count": 44,
     "metadata": {},
     "output_type": "execute_result"
    }
   ],
   "source": [
    "arreglo.reshape(5,5)"
   ]
  },
  {
   "cell_type": "code",
   "execution_count": 45,
   "id": "352960dc",
   "metadata": {},
   "outputs": [],
   "source": [
    "arreglo[7]=54"
   ]
  },
  {
   "cell_type": "code",
   "execution_count": 54,
   "id": "a0972265",
   "metadata": {},
   "outputs": [
    {
     "data": {
      "text/plain": [
       "array([2., 3., 4.])"
      ]
     },
     "execution_count": 54,
     "metadata": {},
     "output_type": "execute_result"
    }
   ],
   "source": [
    "m1 = arreglo[2:5]\n",
    "m1"
   ]
  },
  {
   "cell_type": "code",
   "execution_count": null,
   "id": "6e8ad515",
   "metadata": {},
   "outputs": [],
   "source": []
  }
 ],
 "metadata": {
  "kernelspec": {
   "display_name": "Python 3 (ipykernel)",
   "language": "python",
   "name": "python3"
  },
  "language_info": {
   "codemirror_mode": {
    "name": "ipython",
    "version": 3
   },
   "file_extension": ".py",
   "mimetype": "text/x-python",
   "name": "python",
   "nbconvert_exporter": "python",
   "pygments_lexer": "ipython3",
   "version": "3.11.0"
  }
 },
 "nbformat": 4,
 "nbformat_minor": 5
}
