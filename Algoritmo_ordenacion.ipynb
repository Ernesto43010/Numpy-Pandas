{
 "cells": [
  {
   "cell_type": "code",
   "execution_count": 8,
   "metadata": {},
   "outputs": [],
   "source": [
    "import numpy as np"
   ]
  },
  {
   "cell_type": "code",
   "execution_count": 3,
   "metadata": {},
   "outputs": [],
   "source": [
    "def merge_sort_pirata(arreglo):\n",
    "    # Casos base\n",
    "    if len(arreglo) == 0 or len(arreglo) == 1:\n",
    "        return arreglo\n",
    "    \n",
    "    else:\n",
    "        mitad = len(arreglo) // 2\n",
    "        arr_izq = arreglo[:mitad]\n",
    "        arr_der = arreglo[mitad:]\n",
    "        \n",
    "        arr_izq = merge_sort_pirata(arr_izq)\n",
    "        arr_der = merge_sort_pirata(arr_der)\n",
    "        \n",
    "        a = 0\n",
    "        b = 0\n",
    "        c = 0\n",
    "        \n",
    "        while a < len(arr_izq) and b < len(arr_der):\n",
    "            if arr_izq[a] < arr_der[b]:\n",
    "                arreglo[c] = arr_izq[a]\n",
    "                a += 1\n",
    "            else:\n",
    "                arreglo[c] = arr_der[b]\n",
    "                b += 1\n",
    "            c += 1\n",
    "        \n",
    "        while a < len(arr_izq):\n",
    "            arreglo[c] = arr_izq[a]\n",
    "            a += 1\n",
    "            c += 1\n",
    "        \n",
    "        while b < len(arr_der):\n",
    "            arreglo[c] = arr_der[b]\n",
    "            b += 1\n",
    "            c += 1\n",
    "            \n",
    "        return arreglo\n"
   ]
  },
  {
   "cell_type": "code",
   "execution_count": 11,
   "metadata": {},
   "outputs": [
    {
     "name": "stdout",
     "output_type": "stream",
     "text": [
      "35.4 µs ± 2.41 µs per loop (mean ± std. dev. of 7 runs, 10,000 loops each)\n",
      "74.7 ns ± 1.01 ns per loop (mean ± std. dev. of 7 runs, 10,000,000 loops each)\n"
     ]
    }
   ],
   "source": [
    "\n",
    "arreglo = np.arange(-10,101,10)\n",
    "\n",
    "%timeit merge_sort_pirata(arreglo)\n",
    "\n",
    "%timeit arreglo.sort"
   ]
  }
 ],
 "metadata": {
  "kernelspec": {
   "display_name": "Python 3",
   "language": "python",
   "name": "python3"
  },
  "language_info": {
   "codemirror_mode": {
    "name": "ipython",
    "version": 3
   },
   "file_extension": ".py",
   "mimetype": "text/x-python",
   "name": "python",
   "nbconvert_exporter": "python",
   "pygments_lexer": "ipython3",
   "version": "3.11.0"
  },
  "orig_nbformat": 4
 },
 "nbformat": 4,
 "nbformat_minor": 2
}
